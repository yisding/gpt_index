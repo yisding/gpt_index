{
 "cells": [
  {
   "cell_type": "code",
   "execution_count": 1,
   "id": "478fe946",
   "metadata": {},
   "outputs": [],
   "source": [
    "import gpt_index"
   ]
  },
  {
   "cell_type": "code",
   "execution_count": 3,
   "id": "07d5377e",
   "metadata": {},
   "outputs": [
    {
     "ename": "ImportError",
     "evalue": "cannot import name 'SimpleJSONReader' from 'gpt_index' (/Users/yi/Code/jsongpt/gpt_index/gpt_index/__init__.py)",
     "output_type": "error",
     "traceback": [
      "\u001b[0;31m---------------------------------------------------------------------------\u001b[0m",
      "\u001b[0;31mImportError\u001b[0m                               Traceback (most recent call last)",
      "Cell \u001b[0;32mIn[3], line 1\u001b[0m\n\u001b[0;32m----> 1\u001b[0m \u001b[38;5;28;01mfrom\u001b[39;00m \u001b[38;5;21;01mgpt_index\u001b[39;00m \u001b[38;5;28;01mimport\u001b[39;00m SimpleJSONReader\n",
      "\u001b[0;31mImportError\u001b[0m: cannot import name 'SimpleJSONReader' from 'gpt_index' (/Users/yi/Code/jsongpt/gpt_index/gpt_index/__init__.py)"
     ]
    }
   ],
   "source": [
    "from gpt_index import SimpleJSONReader"
   ]
  },
  {
   "cell_type": "code",
   "execution_count": null,
   "id": "b9124794",
   "metadata": {},
   "outputs": [],
   "source": []
  }
 ],
 "metadata": {
  "kernelspec": {
   "display_name": "firstEnv",
   "language": "python",
   "name": "firstenv"
  },
  "language_info": {
   "codemirror_mode": {
    "name": "ipython",
    "version": 3
   },
   "file_extension": ".py",
   "mimetype": "text/x-python",
   "name": "python",
   "nbconvert_exporter": "python",
   "pygments_lexer": "ipython3",
   "version": "3.10.9"
  }
 },
 "nbformat": 4,
 "nbformat_minor": 5
}
